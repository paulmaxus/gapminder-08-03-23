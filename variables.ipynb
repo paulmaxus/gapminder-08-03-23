{
 "cells": [
  {
   "cell_type": "code",
   "execution_count": 1,
   "id": "22038b20-d412-46b2-aa43-c20073d589ec",
   "metadata": {},
   "outputs": [],
   "source": [
    "age = 32"
   ]
  },
  {
   "cell_type": "code",
   "execution_count": null,
   "id": "e4af9c7b-1bdb-44bd-8922-65bc4d133834",
   "metadata": {},
   "outputs": [],
   "source": []
  }
 ],
 "metadata": {
  "kernelspec": {
   "display_name": "Python 3 (ipykernel)",
   "language": "python",
   "name": "python3"
  },
  "language_info": {
   "codemirror_mode": {
    "name": "ipython",
    "version": 3
   },
   "file_extension": ".py",
   "mimetype": "text/x-python",
   "name": "python",
   "nbconvert_exporter": "python",
   "pygments_lexer": "ipython3",
   "version": "3.10.8"
  }
 },
 "nbformat": 4,
 "nbformat_minor": 5
}
