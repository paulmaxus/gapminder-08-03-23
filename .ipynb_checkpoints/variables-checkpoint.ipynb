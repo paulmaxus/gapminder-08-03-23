{
 "cells": [
  {
   "cell_type": "code",
   "execution_count": 1,
   "id": "22038b20-d412-46b2-aa43-c20073d589ec",
   "metadata": {},
   "outputs": [],
   "source": [
    "age = 32"
   ]
  },
  {
   "cell_type": "code",
   "execution_count": 2,
   "id": "e4af9c7b-1bdb-44bd-8922-65bc4d133834",
   "metadata": {},
   "outputs": [
    {
     "data": {
      "text/plain": [
       "32"
      ]
     },
     "execution_count": 2,
     "metadata": {},
     "output_type": "execute_result"
    }
   ],
   "source": [
    "age"
   ]
  },
  {
   "cell_type": "code",
   "execution_count": 3,
   "id": "f9f87a87-5d24-4016-9580-31b1561975cf",
   "metadata": {},
   "outputs": [
    {
     "name": "stdout",
     "output_type": "stream",
     "text": [
      "32\n"
     ]
    }
   ],
   "source": [
    "print(age)"
   ]
  },
  {
   "cell_type": "code",
   "execution_count": 4,
   "id": "dec338dd-c1cd-40fc-b4d2-34379e82bf39",
   "metadata": {},
   "outputs": [],
   "source": [
    "a = 32"
   ]
  },
  {
   "cell_type": "code",
   "execution_count": 5,
   "id": "1a386f00-80f8-4cff-abab-96ee3ebaff38",
   "metadata": {},
   "outputs": [
    {
     "data": {
      "text/plain": [
       "32"
      ]
     },
     "execution_count": 5,
     "metadata": {},
     "output_type": "execute_result"
    }
   ],
   "source": [
    "a"
   ]
  },
  {
   "cell_type": "code",
   "execution_count": 6,
   "id": "ab031392-1962-4964-ba4d-bb67f23065f5",
   "metadata": {},
   "outputs": [
    {
     "ename": "SyntaxError",
     "evalue": "invalid decimal literal (554998329.py, line 1)",
     "output_type": "error",
     "traceback": [
      "\u001b[1;36m  Cell \u001b[1;32mIn[6], line 1\u001b[1;36m\u001b[0m\n\u001b[1;33m    1age = 32\u001b[0m\n\u001b[1;37m    ^\u001b[0m\n\u001b[1;31mSyntaxError\u001b[0m\u001b[1;31m:\u001b[0m invalid decimal literal\n"
     ]
    }
   ],
   "source": [
    "1age = 32"
   ]
  },
  {
   "cell_type": "code",
   "execution_count": 7,
   "id": "9db37bd9-e1e7-487f-bcc5-480a88829377",
   "metadata": {},
   "outputs": [],
   "source": [
    "age1 = 32"
   ]
  },
  {
   "cell_type": "code",
   "execution_count": null,
   "id": "e75e2c06-c5cb-4dcb-987d-203043ca771d",
   "metadata": {},
   "outputs": [],
   "source": [
    "reaction_time"
   ]
  },
  {
   "cell_type": "code",
   "execution_count": 8,
   "id": "001352a6-23a0-465b-a36f-fd5995e3d240",
   "metadata": {},
   "outputs": [
    {
     "name": "stdout",
     "output_type": "stream",
     "text": [
      "\n"
     ]
    }
   ],
   "source": [
    "print()"
   ]
  },
  {
   "cell_type": "code",
   "execution_count": 9,
   "id": "2c0e153a-829f-4f45-85f6-2499ef5f8255",
   "metadata": {},
   "outputs": [
    {
     "name": "stdout",
     "output_type": "stream",
     "text": [
      "32\n"
     ]
    }
   ],
   "source": [
    "print(age)"
   ]
  },
  {
   "cell_type": "code",
   "execution_count": 10,
   "id": "35abfec5-367a-42cc-8ec4-547c3762a9ac",
   "metadata": {},
   "outputs": [
    {
     "name": "stdout",
     "output_type": "stream",
     "text": [
      "my age is 32\n"
     ]
    }
   ],
   "source": [
    "print('my age is', age)"
   ]
  },
  {
   "cell_type": "code",
   "execution_count": 11,
   "id": "a4ed0432-e2b6-4d3d-baba-b413a5e12fee",
   "metadata": {},
   "outputs": [
    {
     "ename": "NameError",
     "evalue": "name 'first_name' is not defined",
     "output_type": "error",
     "traceback": [
      "\u001b[1;31m---------------------------------------------------------------------------\u001b[0m",
      "\u001b[1;31mNameError\u001b[0m                                 Traceback (most recent call last)",
      "Cell \u001b[1;32mIn[11], line 1\u001b[0m\n\u001b[1;32m----> 1\u001b[0m \u001b[43mfirst_name\u001b[49m\n",
      "\u001b[1;31mNameError\u001b[0m: name 'first_name' is not defined"
     ]
    }
   ],
   "source": [
    "first_name"
   ]
  },
  {
   "cell_type": "code",
   "execution_count": 14,
   "id": "7b32dc95-55a0-4a88-b0ba-8ec4dac1b5ff",
   "metadata": {},
   "outputs": [
    {
     "data": {
      "text/plain": [
       "'Max'"
      ]
     },
     "execution_count": 14,
     "metadata": {},
     "output_type": "execute_result"
    }
   ],
   "source": [
    "first_name"
   ]
  },
  {
   "cell_type": "code",
   "execution_count": 13,
   "id": "fe7ca42d-17a0-4785-a295-886eaa1d9b89",
   "metadata": {},
   "outputs": [],
   "source": [
    "first_name = 'Max'"
   ]
  },
  {
   "cell_type": "code",
   "execution_count": 15,
   "id": "c51ffd90-7429-4dee-aaa9-60b3693eccae",
   "metadata": {},
   "outputs": [
    {
     "data": {
      "text/plain": [
       "35"
      ]
     },
     "execution_count": 15,
     "metadata": {},
     "output_type": "execute_result"
    }
   ],
   "source": [
    "age + 3"
   ]
  },
  {
   "cell_type": "code",
   "execution_count": 16,
   "id": "103c2deb-08da-41bf-be7c-17206dc66bbe",
   "metadata": {},
   "outputs": [
    {
     "data": {
      "text/plain": [
       "32"
      ]
     },
     "execution_count": 16,
     "metadata": {},
     "output_type": "execute_result"
    }
   ],
   "source": [
    "age"
   ]
  },
  {
   "cell_type": "code",
   "execution_count": 17,
   "id": "09cbe8d6-a9e7-40e3-8aca-21a3fb73bcf1",
   "metadata": {},
   "outputs": [],
   "source": [
    "age = age + 3"
   ]
  },
  {
   "cell_type": "code",
   "execution_count": 20,
   "id": "bbf6a1cf-2bf6-4cdd-98c4-c3e683257f09",
   "metadata": {},
   "outputs": [],
   "source": [
    "age = 35"
   ]
  },
  {
   "cell_type": "code",
   "execution_count": 21,
   "id": "27f1148f-9c21-4e67-9390-a4cbd871e77b",
   "metadata": {},
   "outputs": [
    {
     "data": {
      "text/plain": [
       "35"
      ]
     },
     "execution_count": 21,
     "metadata": {},
     "output_type": "execute_result"
    }
   ],
   "source": [
    "age"
   ]
  },
  {
   "cell_type": "markdown",
   "id": "41a21f1e-c9a8-4e3a-b751-ac5b7b0d5e24",
   "metadata": {},
   "source": [
    "String"
   ]
  },
  {
   "cell_type": "code",
   "execution_count": 22,
   "id": "8b8d113a-c3ce-4b97-8df0-4a3b05273407",
   "metadata": {},
   "outputs": [],
   "source": [
    "atom_name = \"this is some random text with $ % &\""
   ]
  },
  {
   "cell_type": "code",
   "execution_count": 23,
   "id": "eaab98a1-3707-49e9-ba55-5b28404fe516",
   "metadata": {},
   "outputs": [
    {
     "data": {
      "text/plain": [
       "'this is some random text with $ % &'"
      ]
     },
     "execution_count": 23,
     "metadata": {},
     "output_type": "execute_result"
    }
   ],
   "source": [
    "atom_name"
   ]
  },
  {
   "cell_type": "code",
   "execution_count": 25,
   "id": "109d1490-d6b0-4165-8823-94b2ca47c955",
   "metadata": {},
   "outputs": [
    {
     "data": {
      "text/plain": [
       "'h'"
      ]
     },
     "execution_count": 25,
     "metadata": {},
     "output_type": "execute_result"
    }
   ],
   "source": [
    "atom_name[1]"
   ]
  },
  {
   "cell_type": "code",
   "execution_count": 26,
   "id": "be135ede-311a-400f-8ae6-62a70092db95",
   "metadata": {},
   "outputs": [
    {
     "data": {
      "text/plain": [
       "'t'"
      ]
     },
     "execution_count": 26,
     "metadata": {},
     "output_type": "execute_result"
    }
   ],
   "source": [
    "atom_name[0:1]"
   ]
  },
  {
   "cell_type": "code",
   "execution_count": 27,
   "id": "005d99b9-8975-4756-aa70-0086753b902f",
   "metadata": {},
   "outputs": [
    {
     "data": {
      "text/plain": [
       "'th'"
      ]
     },
     "execution_count": 27,
     "metadata": {},
     "output_type": "execute_result"
    }
   ],
   "source": [
    "atom_name[0:2]"
   ]
  },
  {
   "cell_type": "code",
   "execution_count": null,
   "id": "ae8cdce1-aa66-4ad2-8bf3-70d372997d24",
   "metadata": {},
   "outputs": [],
   "source": []
  }
 ],
 "metadata": {
  "kernelspec": {
   "display_name": "Python 3 (ipykernel)",
   "language": "python",
   "name": "python3"
  },
  "language_info": {
   "codemirror_mode": {
    "name": "ipython",
    "version": 3
   },
   "file_extension": ".py",
   "mimetype": "text/x-python",
   "name": "python",
   "nbconvert_exporter": "python",
   "pygments_lexer": "ipython3",
   "version": "3.10.8"
  }
 },
 "nbformat": 4,
 "nbformat_minor": 5
}
