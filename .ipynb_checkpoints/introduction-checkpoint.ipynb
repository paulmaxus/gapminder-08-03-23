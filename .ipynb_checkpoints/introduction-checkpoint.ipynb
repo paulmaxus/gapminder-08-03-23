{
 "cells": [
  {
   "cell_type": "markdown",
   "id": "56030577-173c-4b51-8345-abab443f967e",
   "metadata": {},
   "source": [
    "# Introduction\n",
    "\n",
    "## Subtitle"
   ]
  },
  {
   "cell_type": "code",
   "execution_count": null,
   "id": "712312fa-a306-4a8e-9c2a-115ea47b2b87",
   "metadata": {},
   "outputs": [],
   "source": []
  },
  {
   "cell_type": "code",
   "execution_count": null,
   "id": "d6646e59-f5a7-4197-8c65-42625f44c600",
   "metadata": {},
   "outputs": [],
   "source": []
  }
 ],
 "metadata": {
  "kernelspec": {
   "display_name": "Python 3 (ipykernel)",
   "language": "python",
   "name": "python3"
  },
  "language_info": {
   "codemirror_mode": {
    "name": "ipython",
    "version": 3
   },
   "file_extension": ".py",
   "mimetype": "text/x-python",
   "name": "python",
   "nbconvert_exporter": "python",
   "pygments_lexer": "ipython3",
   "version": "3.10.8"
  }
 },
 "nbformat": 4,
 "nbformat_minor": 5
}
