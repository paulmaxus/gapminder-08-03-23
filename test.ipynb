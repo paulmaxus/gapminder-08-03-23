{
 "cells": [
  {
   "cell_type": "code",
   "execution_count": 1,
   "id": "4564db68-4a94-4e16-81a1-e7745ef56298",
   "metadata": {},
   "outputs": [],
   "source": [
    "import pandas as pd"
   ]
  },
  {
   "cell_type": "code",
   "execution_count": 2,
   "id": "930f52be-0171-41c2-abeb-73e2ebbdede2",
   "metadata": {},
   "outputs": [],
   "source": [
    "data = pd.read_csv('data/gapminder_all.csv')"
   ]
  },
  {
   "cell_type": "code",
   "execution_count": null,
   "id": "9a397277-4ac2-46da-af52-307bc93f3cb5",
   "metadata": {},
   "outputs": [],
   "source": []
  }
 ],
 "metadata": {
  "kernelspec": {
   "display_name": "Python 3 (ipykernel)",
   "language": "python",
   "name": "python3"
  },
  "language_info": {
   "codemirror_mode": {
    "name": "ipython",
    "version": 3
   },
   "file_extension": ".py",
   "mimetype": "text/x-python",
   "name": "python",
   "nbconvert_exporter": "python",
   "pygments_lexer": "ipython3",
   "version": "3.10.8"
  }
 },
 "nbformat": 4,
 "nbformat_minor": 5
}
