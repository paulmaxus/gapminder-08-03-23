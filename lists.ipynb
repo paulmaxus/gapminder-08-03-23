{
 "cells": [
  {
   "cell_type": "code",
   "execution_count": 1,
   "id": "f65fc39b-665b-4bb9-9948-6209d741396e",
   "metadata": {},
   "outputs": [],
   "source": [
    "a = 1\n",
    "b = 2"
   ]
  },
  {
   "cell_type": "code",
   "execution_count": 2,
   "id": "6fe781ae-977d-4ae0-b34d-9ae466fa4042",
   "metadata": {},
   "outputs": [],
   "source": [
    "pressures = [0.127, 0.293, 0.743]"
   ]
  },
  {
   "cell_type": "code",
   "execution_count": 3,
   "id": "ac72613b-7e6c-4fa5-9d16-43c06955f20f",
   "metadata": {},
   "outputs": [
    {
     "data": {
      "text/plain": [
       "[0.127, 0.293, 0.743]"
      ]
     },
     "execution_count": 3,
     "metadata": {},
     "output_type": "execute_result"
    }
   ],
   "source": [
    "pressures"
   ]
  },
  {
   "cell_type": "code",
   "execution_count": 4,
   "id": "1161317d-d0fd-4120-8d83-526d870ec4a6",
   "metadata": {},
   "outputs": [
    {
     "data": {
      "text/plain": [
       "3"
      ]
     },
     "execution_count": 4,
     "metadata": {},
     "output_type": "execute_result"
    }
   ],
   "source": [
    "len(pressures)"
   ]
  },
  {
   "cell_type": "code",
   "execution_count": 5,
   "id": "4e030284-f3c6-4848-b9e9-baf2a01c859c",
   "metadata": {},
   "outputs": [
    {
     "data": {
      "text/plain": [
       "0.127"
      ]
     },
     "execution_count": 5,
     "metadata": {},
     "output_type": "execute_result"
    }
   ],
   "source": [
    "pressures[0]"
   ]
  },
  {
   "cell_type": "code",
   "execution_count": 6,
   "id": "1264e7a5-352e-4831-830a-09472dd859ce",
   "metadata": {},
   "outputs": [
    {
     "data": {
      "text/plain": [
       "0.293"
      ]
     },
     "execution_count": 6,
     "metadata": {},
     "output_type": "execute_result"
    }
   ],
   "source": [
    "pressures[1]"
   ]
  },
  {
   "cell_type": "code",
   "execution_count": 7,
   "id": "225e1b5c-5936-4ead-8f5a-00f5e86d0489",
   "metadata": {},
   "outputs": [
    {
     "data": {
      "text/plain": [
       "[0.293, 0.743]"
      ]
     },
     "execution_count": 7,
     "metadata": {},
     "output_type": "execute_result"
    }
   ],
   "source": [
    "pressures[1:]"
   ]
  },
  {
   "cell_type": "code",
   "execution_count": 8,
   "id": "9d746c10-9106-4b38-8d1c-7230d4ec9e73",
   "metadata": {},
   "outputs": [],
   "source": [
    "pressures[0] = 0"
   ]
  },
  {
   "cell_type": "code",
   "execution_count": 9,
   "id": "453a5168-940f-4c7f-bc5a-161726aaf79e",
   "metadata": {},
   "outputs": [
    {
     "data": {
      "text/plain": [
       "[0, 0.293, 0.743]"
      ]
     },
     "execution_count": 9,
     "metadata": {},
     "output_type": "execute_result"
    }
   ],
   "source": [
    "pressures"
   ]
  },
  {
   "cell_type": "code",
   "execution_count": null,
   "id": "793b0db1-40e4-40d4-885d-c0dffccb62cc",
   "metadata": {},
   "outputs": [],
   "source": []
  }
 ],
 "metadata": {
  "kernelspec": {
   "display_name": "Python 3 (ipykernel)",
   "language": "python",
   "name": "python3"
  },
  "language_info": {
   "codemirror_mode": {
    "name": "ipython",
    "version": 3
   },
   "file_extension": ".py",
   "mimetype": "text/x-python",
   "name": "python",
   "nbconvert_exporter": "python",
   "pygments_lexer": "ipython3",
   "version": "3.10.8"
  }
 },
 "nbformat": 4,
 "nbformat_minor": 5
}
