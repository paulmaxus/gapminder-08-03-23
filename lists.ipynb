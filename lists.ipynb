{
 "cells": [
  {
   "cell_type": "code",
   "execution_count": 1,
   "id": "f65fc39b-665b-4bb9-9948-6209d741396e",
   "metadata": {},
   "outputs": [],
   "source": [
    "a = 1\n",
    "b = 2"
   ]
  },
  {
   "cell_type": "code",
   "execution_count": 2,
   "id": "6fe781ae-977d-4ae0-b34d-9ae466fa4042",
   "metadata": {},
   "outputs": [],
   "source": [
    "pressures = [0.127, 0.293, 0.743]"
   ]
  },
  {
   "cell_type": "code",
   "execution_count": 3,
   "id": "ac72613b-7e6c-4fa5-9d16-43c06955f20f",
   "metadata": {},
   "outputs": [
    {
     "data": {
      "text/plain": [
       "[0.127, 0.293, 0.743]"
      ]
     },
     "execution_count": 3,
     "metadata": {},
     "output_type": "execute_result"
    }
   ],
   "source": [
    "pressures"
   ]
  },
  {
   "cell_type": "code",
   "execution_count": 4,
   "id": "1161317d-d0fd-4120-8d83-526d870ec4a6",
   "metadata": {},
   "outputs": [
    {
     "data": {
      "text/plain": [
       "3"
      ]
     },
     "execution_count": 4,
     "metadata": {},
     "output_type": "execute_result"
    }
   ],
   "source": [
    "len(pressures)"
   ]
  },
  {
   "cell_type": "code",
   "execution_count": null,
   "id": "4e030284-f3c6-4848-b9e9-baf2a01c859c",
   "metadata": {},
   "outputs": [],
   "source": []
  }
 ],
 "metadata": {
  "kernelspec": {
   "display_name": "Python 3 (ipykernel)",
   "language": "python",
   "name": "python3"
  },
  "language_info": {
   "codemirror_mode": {
    "name": "ipython",
    "version": 3
   },
   "file_extension": ".py",
   "mimetype": "text/x-python",
   "name": "python",
   "nbconvert_exporter": "python",
   "pygments_lexer": "ipython3",
   "version": "3.10.8"
  }
 },
 "nbformat": 4,
 "nbformat_minor": 5
}
