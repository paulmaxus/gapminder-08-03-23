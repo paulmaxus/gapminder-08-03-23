{
 "cells": [
  {
   "cell_type": "code",
   "execution_count": 1,
   "id": "f65fc39b-665b-4bb9-9948-6209d741396e",
   "metadata": {},
   "outputs": [],
   "source": [
    "a = 1\n",
    "b = 2"
   ]
  },
  {
   "cell_type": "code",
   "execution_count": 2,
   "id": "6fe781ae-977d-4ae0-b34d-9ae466fa4042",
   "metadata": {},
   "outputs": [],
   "source": [
    "pressures = [0.127, 0.293, 0.743]"
   ]
  },
  {
   "cell_type": "code",
   "execution_count": 3,
   "id": "ac72613b-7e6c-4fa5-9d16-43c06955f20f",
   "metadata": {},
   "outputs": [
    {
     "data": {
      "text/plain": [
       "[0.127, 0.293, 0.743]"
      ]
     },
     "execution_count": 3,
     "metadata": {},
     "output_type": "execute_result"
    }
   ],
   "source": [
    "pressures"
   ]
  },
  {
   "cell_type": "code",
   "execution_count": 4,
   "id": "1161317d-d0fd-4120-8d83-526d870ec4a6",
   "metadata": {},
   "outputs": [
    {
     "data": {
      "text/plain": [
       "3"
      ]
     },
     "execution_count": 4,
     "metadata": {},
     "output_type": "execute_result"
    }
   ],
   "source": [
    "len(pressures)"
   ]
  },
  {
   "cell_type": "code",
   "execution_count": 5,
   "id": "4e030284-f3c6-4848-b9e9-baf2a01c859c",
   "metadata": {},
   "outputs": [
    {
     "data": {
      "text/plain": [
       "0.127"
      ]
     },
     "execution_count": 5,
     "metadata": {},
     "output_type": "execute_result"
    }
   ],
   "source": [
    "pressures[0]"
   ]
  },
  {
   "cell_type": "code",
   "execution_count": 6,
   "id": "1264e7a5-352e-4831-830a-09472dd859ce",
   "metadata": {},
   "outputs": [
    {
     "data": {
      "text/plain": [
       "0.293"
      ]
     },
     "execution_count": 6,
     "metadata": {},
     "output_type": "execute_result"
    }
   ],
   "source": [
    "pressures[1]"
   ]
  },
  {
   "cell_type": "code",
   "execution_count": 7,
   "id": "225e1b5c-5936-4ead-8f5a-00f5e86d0489",
   "metadata": {},
   "outputs": [
    {
     "data": {
      "text/plain": [
       "[0.293, 0.743]"
      ]
     },
     "execution_count": 7,
     "metadata": {},
     "output_type": "execute_result"
    }
   ],
   "source": [
    "pressures[1:]"
   ]
  },
  {
   "cell_type": "code",
   "execution_count": 8,
   "id": "9d746c10-9106-4b38-8d1c-7230d4ec9e73",
   "metadata": {},
   "outputs": [],
   "source": [
    "pressures[0] = 0"
   ]
  },
  {
   "cell_type": "code",
   "execution_count": 9,
   "id": "453a5168-940f-4c7f-bc5a-161726aaf79e",
   "metadata": {},
   "outputs": [
    {
     "data": {
      "text/plain": [
       "[0, 0.293, 0.743]"
      ]
     },
     "execution_count": 9,
     "metadata": {},
     "output_type": "execute_result"
    }
   ],
   "source": [
    "pressures"
   ]
  },
  {
   "cell_type": "code",
   "execution_count": 10,
   "id": "793b0db1-40e4-40d4-885d-c0dffccb62cc",
   "metadata": {},
   "outputs": [],
   "source": [
    "pressures[0] = 'a'"
   ]
  },
  {
   "cell_type": "code",
   "execution_count": 11,
   "id": "500b7aaa-7219-4306-8744-cc2c29bc4df8",
   "metadata": {},
   "outputs": [
    {
     "data": {
      "text/plain": [
       "['a', 0.293, 0.743]"
      ]
     },
     "execution_count": 11,
     "metadata": {},
     "output_type": "execute_result"
    }
   ],
   "source": [
    "pressures"
   ]
  },
  {
   "cell_type": "code",
   "execution_count": 12,
   "id": "da72430d-0a62-4b3c-881f-d867f1e00a2f",
   "metadata": {},
   "outputs": [],
   "source": [
    "pressures.append(7)"
   ]
  },
  {
   "cell_type": "code",
   "execution_count": 13,
   "id": "880c9451-bfef-4e35-b790-78d7451d0471",
   "metadata": {},
   "outputs": [],
   "source": [
    "age = 32"
   ]
  },
  {
   "cell_type": "code",
   "execution_count": 14,
   "id": "358b8650-036d-4f69-b4fc-50cb2d58a9cb",
   "metadata": {},
   "outputs": [
    {
     "data": {
      "text/plain": [
       "35"
      ]
     },
     "execution_count": 14,
     "metadata": {},
     "output_type": "execute_result"
    }
   ],
   "source": [
    "age + 3"
   ]
  },
  {
   "cell_type": "code",
   "execution_count": 15,
   "id": "faed3987-524e-4d81-b9e1-41dd111ebd7d",
   "metadata": {},
   "outputs": [
    {
     "data": {
      "text/plain": [
       "['a', 0.293, 0.743, 7]"
      ]
     },
     "execution_count": 15,
     "metadata": {},
     "output_type": "execute_result"
    }
   ],
   "source": [
    "pressures"
   ]
  },
  {
   "cell_type": "code",
   "execution_count": 16,
   "id": "05d52612-d276-4839-9465-ec71b9d8516f",
   "metadata": {},
   "outputs": [
    {
     "ename": "TypeError",
     "evalue": "'int' object is not iterable",
     "output_type": "error",
     "traceback": [
      "\u001b[1;31m---------------------------------------------------------------------------\u001b[0m",
      "\u001b[1;31mTypeError\u001b[0m                                 Traceback (most recent call last)",
      "Cell \u001b[1;32mIn[16], line 1\u001b[0m\n\u001b[1;32m----> 1\u001b[0m \u001b[43mpressures\u001b[49m\u001b[38;5;241;43m.\u001b[39;49m\u001b[43mextend\u001b[49m\u001b[43m(\u001b[49m\u001b[38;5;241;43m7\u001b[39;49m\u001b[43m)\u001b[49m\n",
      "\u001b[1;31mTypeError\u001b[0m: 'int' object is not iterable"
     ]
    }
   ],
   "source": [
    "pressures.extend(7)"
   ]
  },
  {
   "cell_type": "code",
   "execution_count": 17,
   "id": "bab2e988-1008-466b-bf54-5c9d0e2a2722",
   "metadata": {},
   "outputs": [],
   "source": [
    "pressures2 = [1,2,3]"
   ]
  },
  {
   "cell_type": "code",
   "execution_count": 18,
   "id": "e02578f3-daa5-40ee-a321-ed7035c432be",
   "metadata": {},
   "outputs": [],
   "source": [
    "pressures.extend(pressures2)"
   ]
  },
  {
   "cell_type": "code",
   "execution_count": 19,
   "id": "b6278eb7-f5fc-4bea-961c-03545abbc2c9",
   "metadata": {},
   "outputs": [
    {
     "data": {
      "text/plain": [
       "['a', 0.293, 0.743, 7, 1, 2, 3]"
      ]
     },
     "execution_count": 19,
     "metadata": {},
     "output_type": "execute_result"
    }
   ],
   "source": [
    "pressures"
   ]
  },
  {
   "cell_type": "code",
   "execution_count": 20,
   "id": "81088713-59dd-4148-8afe-d271c35e0d05",
   "metadata": {},
   "outputs": [
    {
     "data": {
      "text/plain": [
       "[1, 2, 3]"
      ]
     },
     "execution_count": 20,
     "metadata": {},
     "output_type": "execute_result"
    }
   ],
   "source": [
    "pressures2"
   ]
  },
  {
   "cell_type": "code",
   "execution_count": 21,
   "id": "821e5f7c-d360-4f08-bd15-789a0b669970",
   "metadata": {},
   "outputs": [],
   "source": [
    "pressures.append(pressures2)"
   ]
  },
  {
   "cell_type": "code",
   "execution_count": 22,
   "id": "44995fb5-24f7-4848-8db3-cff0a99e0936",
   "metadata": {},
   "outputs": [
    {
     "data": {
      "text/plain": [
       "['a', 0.293, 0.743, 7, 1, 2, 3, [1, 2, 3]]"
      ]
     },
     "execution_count": 22,
     "metadata": {},
     "output_type": "execute_result"
    }
   ],
   "source": [
    "pressures"
   ]
  },
  {
   "cell_type": "code",
   "execution_count": 23,
   "id": "9372083f-9e67-4ac1-a7fc-12c8ecb850ff",
   "metadata": {},
   "outputs": [],
   "source": [
    "pressures.remove(7)"
   ]
  },
  {
   "cell_type": "code",
   "execution_count": 24,
   "id": "5c7d42a0-0121-450d-bd18-b52fe7415aa6",
   "metadata": {},
   "outputs": [
    {
     "data": {
      "text/plain": [
       "['a', 0.293, 0.743, 1, 2, 3, [1, 2, 3]]"
      ]
     },
     "execution_count": 24,
     "metadata": {},
     "output_type": "execute_result"
    }
   ],
   "source": [
    "pressures"
   ]
  },
  {
   "cell_type": "code",
   "execution_count": 25,
   "id": "5dd9af6a-8058-4296-9b2c-43fb173fe36e",
   "metadata": {},
   "outputs": [],
   "source": [
    "pressures = []"
   ]
  },
  {
   "cell_type": "code",
   "execution_count": 26,
   "id": "5faae47d-4dc3-4286-9331-193abda12553",
   "metadata": {},
   "outputs": [
    {
     "data": {
      "text/plain": [
       "[]"
      ]
     },
     "execution_count": 26,
     "metadata": {},
     "output_type": "execute_result"
    }
   ],
   "source": [
    "pressures"
   ]
  },
  {
   "cell_type": "code",
   "execution_count": 27,
   "id": "4a300389-8d50-4f77-a0ec-a151060403a9",
   "metadata": {},
   "outputs": [],
   "source": [
    "values = []"
   ]
  },
  {
   "cell_type": "code",
   "execution_count": 28,
   "id": "a1ed0a48-e691-4d81-a0f9-8f7a487fed5e",
   "metadata": {},
   "outputs": [],
   "source": [
    "values.append(1)"
   ]
  },
  {
   "cell_type": "code",
   "execution_count": 29,
   "id": "ba32d366-b50e-42ea-bff8-3946143dcd56",
   "metadata": {},
   "outputs": [],
   "source": [
    "values.append(3)"
   ]
  },
  {
   "cell_type": "code",
   "execution_count": 30,
   "id": "c6dc889e-2fa4-4fcd-9c27-c4e3e3a30af5",
   "metadata": {},
   "outputs": [],
   "source": [
    "values.append(5)"
   ]
  },
  {
   "cell_type": "code",
   "execution_count": 31,
   "id": "6f18485d-9ac4-4171-8df6-2919162b7474",
   "metadata": {},
   "outputs": [
    {
     "data": {
      "text/plain": [
       "[1, 3, 5]"
      ]
     },
     "execution_count": 31,
     "metadata": {},
     "output_type": "execute_result"
    }
   ],
   "source": [
    "values"
   ]
  },
  {
   "cell_type": "code",
   "execution_count": 32,
   "id": "1d1943f3-aaa2-4889-957b-f35fdd2e318b",
   "metadata": {},
   "outputs": [
    {
     "name": "stdout",
     "output_type": "stream",
     "text": [
      "first time: [1, 3, 5]\n"
     ]
    }
   ],
   "source": [
    "print('first time:', values)"
   ]
  },
  {
   "cell_type": "code",
   "execution_count": null,
   "id": "8033aa77-6cae-472f-bfbc-9e8f0e8778d2",
   "metadata": {},
   "outputs": [],
   "source": [
    "values = values[1]"
   ]
  }
 ],
 "metadata": {
  "kernelspec": {
   "display_name": "Python 3 (ipykernel)",
   "language": "python",
   "name": "python3"
  },
  "language_info": {
   "codemirror_mode": {
    "name": "ipython",
    "version": 3
   },
   "file_extension": ".py",
   "mimetype": "text/x-python",
   "name": "python",
   "nbconvert_exporter": "python",
   "pygments_lexer": "ipython3",
   "version": "3.10.8"
  }
 },
 "nbformat": 4,
 "nbformat_minor": 5
}
