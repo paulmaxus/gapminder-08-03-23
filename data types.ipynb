{
 "cells": [
  {
   "cell_type": "markdown",
   "id": "dda34cc8-1584-4ea0-a792-7e41bfa99eaa",
   "metadata": {},
   "source": [
    "- integer: 1,2,3,-1\n",
    "- float: 1.0, 1.1\n",
    "- string: 'my first name is Max'\n",
    "- boolean: true, false"
   ]
  },
  {
   "cell_type": "code",
   "execution_count": 1,
   "id": "264fd779-74ce-4e79-9fea-79ed9e7f0ac3",
   "metadata": {},
   "outputs": [
    {
     "data": {
      "text/plain": [
       "int"
      ]
     },
     "execution_count": 1,
     "metadata": {},
     "output_type": "execute_result"
    }
   ],
   "source": [
    "type(10)"
   ]
  },
  {
   "cell_type": "code",
   "execution_count": 2,
   "id": "aae5733b-f68c-48b8-bf60-e78b0c823640",
   "metadata": {},
   "outputs": [
    {
     "data": {
      "text/plain": [
       "str"
      ]
     },
     "execution_count": 2,
     "metadata": {},
     "output_type": "execute_result"
    }
   ],
   "source": [
    "type('text')"
   ]
  },
  {
   "cell_type": "code",
   "execution_count": 3,
   "id": "0256432d-9303-4c47-987a-017e55e8674b",
   "metadata": {},
   "outputs": [],
   "source": [
    "reaction_time = 1200"
   ]
  },
  {
   "cell_type": "code",
   "execution_count": 4,
   "id": "d9093af2-c9a6-49c3-ad83-f7939c2840fa",
   "metadata": {},
   "outputs": [
    {
     "data": {
      "text/plain": [
       "int"
      ]
     },
     "execution_count": 4,
     "metadata": {},
     "output_type": "execute_result"
    }
   ],
   "source": [
    "type(reaction_time)"
   ]
  },
  {
   "cell_type": "code",
   "execution_count": null,
   "id": "6d6fd591-0e7f-4b8a-b128-632172f663c8",
   "metadata": {},
   "outputs": [],
   "source": []
  }
 ],
 "metadata": {
  "kernelspec": {
   "display_name": "Python 3 (ipykernel)",
   "language": "python",
   "name": "python3"
  },
  "language_info": {
   "codemirror_mode": {
    "name": "ipython",
    "version": 3
   },
   "file_extension": ".py",
   "mimetype": "text/x-python",
   "name": "python",
   "nbconvert_exporter": "python",
   "pygments_lexer": "ipython3",
   "version": "3.10.8"
  }
 },
 "nbformat": 4,
 "nbformat_minor": 5
}
