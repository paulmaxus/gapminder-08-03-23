{
 "cells": [
  {
   "cell_type": "markdown",
   "id": "dda34cc8-1584-4ea0-a792-7e41bfa99eaa",
   "metadata": {},
   "source": [
    "- integer: 1,2,3,-1\n",
    "- float: 1.0, 1.1\n",
    "- string: 'my first name is Max'\n",
    "- boolean: true, false"
   ]
  }
 ],
 "metadata": {
  "kernelspec": {
   "display_name": "Python 3 (ipykernel)",
   "language": "python",
   "name": "python3"
  },
  "language_info": {
   "codemirror_mode": {
    "name": "ipython",
    "version": 3
   },
   "file_extension": ".py",
   "mimetype": "text/x-python",
   "name": "python",
   "nbconvert_exporter": "python",
   "pygments_lexer": "ipython3",
   "version": "3.10.8"
  }
 },
 "nbformat": 4,
 "nbformat_minor": 5
}
